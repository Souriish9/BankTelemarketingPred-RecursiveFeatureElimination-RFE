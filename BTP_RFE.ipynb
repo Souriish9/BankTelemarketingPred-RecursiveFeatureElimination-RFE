{
  "nbformat": 4,
  "nbformat_minor": 0,
  "metadata": {
    "colab": {
      "provenance": [],
      "authorship_tag": "ABX9TyOF1PQuZvk5JsH3Sx2IRGWf",
      "include_colab_link": true
    },
    "kernelspec": {
      "name": "python3",
      "display_name": "Python 3"
    },
    "language_info": {
      "name": "python"
    }
  },
  "cells": [
    {
      "cell_type": "markdown",
      "metadata": {
        "id": "view-in-github",
        "colab_type": "text"
      },
      "source": [
        "<a href=\"https://colab.research.google.com/github/Souriish9/BankTelemarketingPred-RecursiveFeatureElimination-RFE/blob/master/BTP_RFE.ipynb\" target=\"_parent\"><img src=\"https://colab.research.google.com/assets/colab-badge.svg\" alt=\"Open In Colab\"/></a>"
      ]
    },
    {
      "cell_type": "markdown",
      "source": [
        "# Bank Telemarketing Predictions"
      ],
      "metadata": {
        "id": "72lI5YM56Au9"
      }
    },
    {
      "cell_type": "markdown",
      "source": [
        "Recursive Feature Elimination "
      ],
      "metadata": {
        "id": "oAlHFHhq6JL6"
      }
    },
    {
      "cell_type": "code",
      "execution_count": 16,
      "metadata": {
        "id": "-GUo6Zvy5cNS"
      },
      "outputs": [],
      "source": [
        "import pandas as pd"
      ]
    },
    {
      "cell_type": "code",
      "source": [
        "dataset=pd.read_csv('bank.csv')"
      ],
      "metadata": {
        "id": "Txy-hr8J7XHM"
      },
      "execution_count": 17,
      "outputs": []
    },
    {
      "cell_type": "code",
      "source": [
        "f=dataset.copy()"
      ],
      "metadata": {
        "id": "_RenQG6I7eHe"
      },
      "execution_count": 18,
      "outputs": []
    },
    {
      "cell_type": "code",
      "source": [
        "f.head()"
      ],
      "metadata": {
        "colab": {
          "base_uri": "https://localhost:8080/",
          "height": 300
        },
        "id": "b23SRlLu7hov",
        "outputId": "25d2e9c2-379d-4ecc-8457-023c10e7c221"
      },
      "execution_count": 19,
      "outputs": [
        {
          "output_type": "execute_result",
          "data": {
            "text/plain": [
              "   age        job  marital    education  default housing loan    contact  \\\n",
              "0   56  housemaid  married     basic.4y       no      no   no  telephone   \n",
              "1   57   services  married  high.school  unknown      no   no  telephone   \n",
              "2   37   services  married  high.school       no     yes   no  telephone   \n",
              "3   40     admin.  married     basic.6y       no      no   no  telephone   \n",
              "4   56   services  married  high.school       no      no  yes  telephone   \n",
              "\n",
              "  month day_of_week  ...  campaign  pdays  previous     poutcome emp.var.rate  \\\n",
              "0   may         mon  ...         1    999         0  nonexistent          1.1   \n",
              "1   may         mon  ...         1    999         0  nonexistent          1.1   \n",
              "2   may         mon  ...         1    999         0  nonexistent          1.1   \n",
              "3   may         mon  ...         1    999         0  nonexistent          1.1   \n",
              "4   may         mon  ...         1    999         0  nonexistent          1.1   \n",
              "\n",
              "   cons.price.idx  cons.conf.idx  euribor3m  nr.employed   y  \n",
              "0          93.994          -36.4      4.857       5191.0  no  \n",
              "1          93.994          -36.4      4.857       5191.0  no  \n",
              "2          93.994          -36.4      4.857       5191.0  no  \n",
              "3          93.994          -36.4      4.857       5191.0  no  \n",
              "4          93.994          -36.4      4.857       5191.0  no  \n",
              "\n",
              "[5 rows x 21 columns]"
            ],
            "text/html": [
              "\n",
              "  <div id=\"df-f6b86eef-a8b9-4b24-9489-9e03b4e0e57b\">\n",
              "    <div class=\"colab-df-container\">\n",
              "      <div>\n",
              "<style scoped>\n",
              "    .dataframe tbody tr th:only-of-type {\n",
              "        vertical-align: middle;\n",
              "    }\n",
              "\n",
              "    .dataframe tbody tr th {\n",
              "        vertical-align: top;\n",
              "    }\n",
              "\n",
              "    .dataframe thead th {\n",
              "        text-align: right;\n",
              "    }\n",
              "</style>\n",
              "<table border=\"1\" class=\"dataframe\">\n",
              "  <thead>\n",
              "    <tr style=\"text-align: right;\">\n",
              "      <th></th>\n",
              "      <th>age</th>\n",
              "      <th>job</th>\n",
              "      <th>marital</th>\n",
              "      <th>education</th>\n",
              "      <th>default</th>\n",
              "      <th>housing</th>\n",
              "      <th>loan</th>\n",
              "      <th>contact</th>\n",
              "      <th>month</th>\n",
              "      <th>day_of_week</th>\n",
              "      <th>...</th>\n",
              "      <th>campaign</th>\n",
              "      <th>pdays</th>\n",
              "      <th>previous</th>\n",
              "      <th>poutcome</th>\n",
              "      <th>emp.var.rate</th>\n",
              "      <th>cons.price.idx</th>\n",
              "      <th>cons.conf.idx</th>\n",
              "      <th>euribor3m</th>\n",
              "      <th>nr.employed</th>\n",
              "      <th>y</th>\n",
              "    </tr>\n",
              "  </thead>\n",
              "  <tbody>\n",
              "    <tr>\n",
              "      <th>0</th>\n",
              "      <td>56</td>\n",
              "      <td>housemaid</td>\n",
              "      <td>married</td>\n",
              "      <td>basic.4y</td>\n",
              "      <td>no</td>\n",
              "      <td>no</td>\n",
              "      <td>no</td>\n",
              "      <td>telephone</td>\n",
              "      <td>may</td>\n",
              "      <td>mon</td>\n",
              "      <td>...</td>\n",
              "      <td>1</td>\n",
              "      <td>999</td>\n",
              "      <td>0</td>\n",
              "      <td>nonexistent</td>\n",
              "      <td>1.1</td>\n",
              "      <td>93.994</td>\n",
              "      <td>-36.4</td>\n",
              "      <td>4.857</td>\n",
              "      <td>5191.0</td>\n",
              "      <td>no</td>\n",
              "    </tr>\n",
              "    <tr>\n",
              "      <th>1</th>\n",
              "      <td>57</td>\n",
              "      <td>services</td>\n",
              "      <td>married</td>\n",
              "      <td>high.school</td>\n",
              "      <td>unknown</td>\n",
              "      <td>no</td>\n",
              "      <td>no</td>\n",
              "      <td>telephone</td>\n",
              "      <td>may</td>\n",
              "      <td>mon</td>\n",
              "      <td>...</td>\n",
              "      <td>1</td>\n",
              "      <td>999</td>\n",
              "      <td>0</td>\n",
              "      <td>nonexistent</td>\n",
              "      <td>1.1</td>\n",
              "      <td>93.994</td>\n",
              "      <td>-36.4</td>\n",
              "      <td>4.857</td>\n",
              "      <td>5191.0</td>\n",
              "      <td>no</td>\n",
              "    </tr>\n",
              "    <tr>\n",
              "      <th>2</th>\n",
              "      <td>37</td>\n",
              "      <td>services</td>\n",
              "      <td>married</td>\n",
              "      <td>high.school</td>\n",
              "      <td>no</td>\n",
              "      <td>yes</td>\n",
              "      <td>no</td>\n",
              "      <td>telephone</td>\n",
              "      <td>may</td>\n",
              "      <td>mon</td>\n",
              "      <td>...</td>\n",
              "      <td>1</td>\n",
              "      <td>999</td>\n",
              "      <td>0</td>\n",
              "      <td>nonexistent</td>\n",
              "      <td>1.1</td>\n",
              "      <td>93.994</td>\n",
              "      <td>-36.4</td>\n",
              "      <td>4.857</td>\n",
              "      <td>5191.0</td>\n",
              "      <td>no</td>\n",
              "    </tr>\n",
              "    <tr>\n",
              "      <th>3</th>\n",
              "      <td>40</td>\n",
              "      <td>admin.</td>\n",
              "      <td>married</td>\n",
              "      <td>basic.6y</td>\n",
              "      <td>no</td>\n",
              "      <td>no</td>\n",
              "      <td>no</td>\n",
              "      <td>telephone</td>\n",
              "      <td>may</td>\n",
              "      <td>mon</td>\n",
              "      <td>...</td>\n",
              "      <td>1</td>\n",
              "      <td>999</td>\n",
              "      <td>0</td>\n",
              "      <td>nonexistent</td>\n",
              "      <td>1.1</td>\n",
              "      <td>93.994</td>\n",
              "      <td>-36.4</td>\n",
              "      <td>4.857</td>\n",
              "      <td>5191.0</td>\n",
              "      <td>no</td>\n",
              "    </tr>\n",
              "    <tr>\n",
              "      <th>4</th>\n",
              "      <td>56</td>\n",
              "      <td>services</td>\n",
              "      <td>married</td>\n",
              "      <td>high.school</td>\n",
              "      <td>no</td>\n",
              "      <td>no</td>\n",
              "      <td>yes</td>\n",
              "      <td>telephone</td>\n",
              "      <td>may</td>\n",
              "      <td>mon</td>\n",
              "      <td>...</td>\n",
              "      <td>1</td>\n",
              "      <td>999</td>\n",
              "      <td>0</td>\n",
              "      <td>nonexistent</td>\n",
              "      <td>1.1</td>\n",
              "      <td>93.994</td>\n",
              "      <td>-36.4</td>\n",
              "      <td>4.857</td>\n",
              "      <td>5191.0</td>\n",
              "      <td>no</td>\n",
              "    </tr>\n",
              "  </tbody>\n",
              "</table>\n",
              "<p>5 rows × 21 columns</p>\n",
              "</div>\n",
              "      <button class=\"colab-df-convert\" onclick=\"convertToInteractive('df-f6b86eef-a8b9-4b24-9489-9e03b4e0e57b')\"\n",
              "              title=\"Convert this dataframe to an interactive table.\"\n",
              "              style=\"display:none;\">\n",
              "        \n",
              "  <svg xmlns=\"http://www.w3.org/2000/svg\" height=\"24px\"viewBox=\"0 0 24 24\"\n",
              "       width=\"24px\">\n",
              "    <path d=\"M0 0h24v24H0V0z\" fill=\"none\"/>\n",
              "    <path d=\"M18.56 5.44l.94 2.06.94-2.06 2.06-.94-2.06-.94-.94-2.06-.94 2.06-2.06.94zm-11 1L8.5 8.5l.94-2.06 2.06-.94-2.06-.94L8.5 2.5l-.94 2.06-2.06.94zm10 10l.94 2.06.94-2.06 2.06-.94-2.06-.94-.94-2.06-.94 2.06-2.06.94z\"/><path d=\"M17.41 7.96l-1.37-1.37c-.4-.4-.92-.59-1.43-.59-.52 0-1.04.2-1.43.59L10.3 9.45l-7.72 7.72c-.78.78-.78 2.05 0 2.83L4 21.41c.39.39.9.59 1.41.59.51 0 1.02-.2 1.41-.59l7.78-7.78 2.81-2.81c.8-.78.8-2.07 0-2.86zM5.41 20L4 18.59l7.72-7.72 1.47 1.35L5.41 20z\"/>\n",
              "  </svg>\n",
              "      </button>\n",
              "      \n",
              "  <style>\n",
              "    .colab-df-container {\n",
              "      display:flex;\n",
              "      flex-wrap:wrap;\n",
              "      gap: 12px;\n",
              "    }\n",
              "\n",
              "    .colab-df-convert {\n",
              "      background-color: #E8F0FE;\n",
              "      border: none;\n",
              "      border-radius: 50%;\n",
              "      cursor: pointer;\n",
              "      display: none;\n",
              "      fill: #1967D2;\n",
              "      height: 32px;\n",
              "      padding: 0 0 0 0;\n",
              "      width: 32px;\n",
              "    }\n",
              "\n",
              "    .colab-df-convert:hover {\n",
              "      background-color: #E2EBFA;\n",
              "      box-shadow: 0px 1px 2px rgba(60, 64, 67, 0.3), 0px 1px 3px 1px rgba(60, 64, 67, 0.15);\n",
              "      fill: #174EA6;\n",
              "    }\n",
              "\n",
              "    [theme=dark] .colab-df-convert {\n",
              "      background-color: #3B4455;\n",
              "      fill: #D2E3FC;\n",
              "    }\n",
              "\n",
              "    [theme=dark] .colab-df-convert:hover {\n",
              "      background-color: #434B5C;\n",
              "      box-shadow: 0px 1px 3px 1px rgba(0, 0, 0, 0.15);\n",
              "      filter: drop-shadow(0px 1px 2px rgba(0, 0, 0, 0.3));\n",
              "      fill: #FFFFFF;\n",
              "    }\n",
              "  </style>\n",
              "\n",
              "      <script>\n",
              "        const buttonEl =\n",
              "          document.querySelector('#df-f6b86eef-a8b9-4b24-9489-9e03b4e0e57b button.colab-df-convert');\n",
              "        buttonEl.style.display =\n",
              "          google.colab.kernel.accessAllowed ? 'block' : 'none';\n",
              "\n",
              "        async function convertToInteractive(key) {\n",
              "          const element = document.querySelector('#df-f6b86eef-a8b9-4b24-9489-9e03b4e0e57b');\n",
              "          const dataTable =\n",
              "            await google.colab.kernel.invokeFunction('convertToInteractive',\n",
              "                                                     [key], {});\n",
              "          if (!dataTable) return;\n",
              "\n",
              "          const docLinkHtml = 'Like what you see? Visit the ' +\n",
              "            '<a target=\"_blank\" href=https://colab.research.google.com/notebooks/data_table.ipynb>data table notebook</a>'\n",
              "            + ' to learn more about interactive tables.';\n",
              "          element.innerHTML = '';\n",
              "          dataTable['output_type'] = 'display_data';\n",
              "          await google.colab.output.renderOutput(dataTable, element);\n",
              "          const docLink = document.createElement('div');\n",
              "          docLink.innerHTML = docLinkHtml;\n",
              "          element.appendChild(docLink);\n",
              "        }\n",
              "      </script>\n",
              "    </div>\n",
              "  </div>\n",
              "  "
            ]
          },
          "metadata": {},
          "execution_count": 19
        }
      ]
    },
    {
      "cell_type": "markdown",
      "source": [
        "Drop Feature --> Durations"
      ],
      "metadata": {
        "id": "n-MNu4457sDP"
      }
    },
    {
      "cell_type": "code",
      "source": [
        "f=f.drop(['duration'],axis=1)"
      ],
      "metadata": {
        "id": "DoHDCX-J7wue"
      },
      "execution_count": 20,
      "outputs": []
    },
    {
      "cell_type": "markdown",
      "source": [
        "Split into X & Y"
      ],
      "metadata": {
        "id": "X7_MJZR88HnV"
      }
    },
    {
      "cell_type": "code",
      "source": [
        "X=f.iloc[:,:-1]\n",
        "Y=f.iloc[:,-1]"
      ],
      "metadata": {
        "id": "QGFp8tb08GnN"
      },
      "execution_count": 21,
      "outputs": []
    },
    {
      "cell_type": "code",
      "source": [
        "X=pd.get_dummies(X,drop_first=True)\n",
        "Y=pd.get_dummies(Y,drop_first=True)"
      ],
      "metadata": {
        "id": "JmZmScKu8X18"
      },
      "execution_count": 22,
      "outputs": []
    },
    {
      "cell_type": "markdown",
      "source": [
        "Train Test Split"
      ],
      "metadata": {
        "id": "Ed08v1yv8kO1"
      }
    },
    {
      "cell_type": "code",
      "source": [
        "from sklearn.model_selection import train_test_split\n",
        "x_train,x_test,y_train,y_test=train_test_split(X,Y,test_size=0.3,random_state=1234)"
      ],
      "metadata": {
        "id": "Tfy34NPO8lz8"
      },
      "execution_count": 23,
      "outputs": []
    },
    {
      "cell_type": "markdown",
      "source": [
        "Random Forest Classifier"
      ],
      "metadata": {
        "id": "I6-OXkFf82sM"
      }
    },
    {
      "cell_type": "code",
      "source": [
        "from sklearn.ensemble import RandomForestClassifier\n",
        "rfc1=RandomForestClassifier(random_state=1234)\n",
        "rfc1.fit(x_train,y_train)"
      ],
      "metadata": {
        "colab": {
          "base_uri": "https://localhost:8080/"
        },
        "id": "ewCIGjS-85p7",
        "outputId": "08cb6d4c-6341-499d-a4e5-ecf7c98056bf"
      },
      "execution_count": 24,
      "outputs": [
        {
          "output_type": "stream",
          "name": "stderr",
          "text": [
            "/usr/local/lib/python3.7/dist-packages/ipykernel_launcher.py:3: DataConversionWarning: A column-vector y was passed when a 1d array was expected. Please change the shape of y to (n_samples,), for example using ravel().\n",
            "  This is separate from the ipykernel package so we can avoid doing imports until\n"
          ]
        },
        {
          "output_type": "execute_result",
          "data": {
            "text/plain": [
              "RandomForestClassifier(random_state=1234)"
            ]
          },
          "metadata": {},
          "execution_count": 24
        }
      ]
    },
    {
      "cell_type": "code",
      "source": [
        "y_pred=rfc1.predict(x_test)"
      ],
      "metadata": {
        "id": "W1BlNXSJ9Tkl"
      },
      "execution_count": 25,
      "outputs": []
    },
    {
      "cell_type": "code",
      "source": [
        "rfc1.score(x_test,y_test)"
      ],
      "metadata": {
        "colab": {
          "base_uri": "https://localhost:8080/"
        },
        "id": "98TO98zv9Zkh",
        "outputId": "8bbaa9df-2e3b-459d-eda9-0092e0db671c"
      },
      "execution_count": 26,
      "outputs": [
        {
          "output_type": "execute_result",
          "data": {
            "text/plain": [
              "0.8904264789188314"
            ]
          },
          "metadata": {},
          "execution_count": 26
        }
      ]
    },
    {
      "cell_type": "markdown",
      "source": [
        "Confusion Matrix"
      ],
      "metadata": {
        "id": "nDLZcYyI9rEh"
      }
    },
    {
      "cell_type": "code",
      "source": [
        "from sklearn.metrics import confusion_matrix\n",
        "cm1=confusion_matrix(y_test,y_pred)\n",
        "cm1"
      ],
      "metadata": {
        "colab": {
          "base_uri": "https://localhost:8080/"
        },
        "id": "iIZRf5kB9qph",
        "outputId": "63497629-bb3e-405d-b21d-e3c7e514ddc5"
      },
      "execution_count": 27,
      "outputs": [
        {
          "output_type": "execute_result",
          "data": {
            "text/plain": [
              "array([[10599,   361],\n",
              "       [  993,   404]])"
            ]
          },
          "metadata": {},
          "execution_count": 27
        }
      ]
    },
    {
      "cell_type": "markdown",
      "source": [
        "# RFE"
      ],
      "metadata": {
        "id": "T8EfCS1P-Env"
      }
    },
    {
      "cell_type": "code",
      "source": [
        "from sklearn.feature_selection import RFE"
      ],
      "metadata": {
        "id": "0LUGF7Zj-Fz_"
      },
      "execution_count": 32,
      "outputs": []
    },
    {
      "cell_type": "markdown",
      "source": [
        "Get an object Estimator"
      ],
      "metadata": {
        "id": "CDGPm0co-jpm"
      }
    },
    {
      "cell_type": "code",
      "source": [
        "rfc2=RandomForestClassifier(random_state=1234)\n",
        "rfe=RFE(estimator=rfc2,n_features_to_select=30,step=1)"
      ],
      "metadata": {
        "id": "68POpAu2-mxX"
      },
      "execution_count": 35,
      "outputs": []
    },
    {
      "cell_type": "code",
      "source": [
        "rfe.fit(X,Y)"
      ],
      "metadata": {
        "id": "YkgLWkR__cfS"
      },
      "execution_count": null,
      "outputs": []
    },
    {
      "cell_type": "code",
      "source": [
        "x_train_rfe=rfe.transform(x_train)\n",
        "x_test_rfe=rfe.transform(x_test)"
      ],
      "metadata": {
        "id": "zjFE-TBsAgNW"
      },
      "execution_count": 37,
      "outputs": []
    },
    {
      "cell_type": "code",
      "source": [
        "x_train_rfe.shape"
      ],
      "metadata": {
        "colab": {
          "base_uri": "https://localhost:8080/"
        },
        "id": "0T7CkOrGA9vw",
        "outputId": "485d16e5-46e9-425c-ab16-c4f22e313df5"
      },
      "execution_count": 38,
      "outputs": [
        {
          "output_type": "execute_result",
          "data": {
            "text/plain": [
              "(28831, 30)"
            ]
          },
          "metadata": {},
          "execution_count": 38
        }
      ]
    },
    {
      "cell_type": "code",
      "source": [
        "x_train_rfe"
      ],
      "metadata": {
        "colab": {
          "base_uri": "https://localhost:8080/"
        },
        "id": "3xipWlUXBDZ3",
        "outputId": "ca1917ef-81ca-45d8-c74e-94ae0ba75346"
      },
      "execution_count": 39,
      "outputs": [
        {
          "output_type": "execute_result",
          "data": {
            "text/plain": [
              "array([[ 31.,   2., 999., ...,   1.,   1.,   0.],\n",
              "       [ 36.,   2., 999., ...,   0.,   1.,   0.],\n",
              "       [ 36.,   2., 999., ...,   0.,   1.,   0.],\n",
              "       ...,\n",
              "       [ 43.,   3., 999., ...,   0.,   1.,   0.],\n",
              "       [ 39.,   4., 999., ...,   1.,   1.,   0.],\n",
              "       [ 46.,   3., 999., ...,   0.,   1.,   0.]])"
            ]
          },
          "metadata": {},
          "execution_count": 39
        }
      ]
    },
    {
      "cell_type": "code",
      "source": [
        "rfc2.fit(x_train_rfe,y_train)\n",
        "y_pred2=rfc2.predict(x_test_rfe)\n",
        "rfc2.score(x_test_rfe,y_test)"
      ],
      "metadata": {
        "colab": {
          "base_uri": "https://localhost:8080/"
        },
        "id": "vnDUXX-uBLov",
        "outputId": "66f96e55-92a5-43e0-89d1-7b035fa5cc08"
      },
      "execution_count": 43,
      "outputs": [
        {
          "output_type": "stream",
          "name": "stderr",
          "text": [
            "/usr/local/lib/python3.7/dist-packages/ipykernel_launcher.py:1: DataConversionWarning: A column-vector y was passed when a 1d array was expected. Please change the shape of y to (n_samples,), for example using ravel().\n",
            "  \"\"\"Entry point for launching an IPython kernel.\n"
          ]
        },
        {
          "output_type": "execute_result",
          "data": {
            "text/plain": [
              "0.8902646273367322"
            ]
          },
          "metadata": {},
          "execution_count": 43
        }
      ]
    },
    {
      "cell_type": "code",
      "source": [
        "from sklearn.metrics import confusion_matrix\n",
        "cm2=confusion_matrix(y_test,y_pred2)\n",
        "cm2"
      ],
      "metadata": {
        "colab": {
          "base_uri": "https://localhost:8080/"
        },
        "id": "yIdm7dcMBvwl",
        "outputId": "05e461ff-53ab-422b-fb96-841e8100425e"
      },
      "execution_count": 44,
      "outputs": [
        {
          "output_type": "execute_result",
          "data": {
            "text/plain": [
              "array([[10598,   362],\n",
              "       [  994,   403]])"
            ]
          },
          "metadata": {},
          "execution_count": 44
        }
      ]
    },
    {
      "cell_type": "markdown",
      "source": [
        "Know the selected cols list"
      ],
      "metadata": {
        "id": "Y8hhSARmCSxm"
      }
    },
    {
      "cell_type": "code",
      "source": [
        "columns=list(X.columns)\n",
        "columns"
      ],
      "metadata": {
        "colab": {
          "base_uri": "https://localhost:8080/"
        },
        "id": "K2nbDUViCYoN",
        "outputId": "94c95126-e5d9-4981-c41c-a01fb464bc07"
      },
      "execution_count": 47,
      "outputs": [
        {
          "output_type": "execute_result",
          "data": {
            "text/plain": [
              "['age',\n",
              " 'campaign',\n",
              " 'pdays',\n",
              " 'previous',\n",
              " 'emp.var.rate',\n",
              " 'cons.price.idx',\n",
              " 'cons.conf.idx',\n",
              " 'euribor3m',\n",
              " 'nr.employed',\n",
              " 'job_blue-collar',\n",
              " 'job_entrepreneur',\n",
              " 'job_housemaid',\n",
              " 'job_management',\n",
              " 'job_retired',\n",
              " 'job_self-employed',\n",
              " 'job_services',\n",
              " 'job_student',\n",
              " 'job_technician',\n",
              " 'job_unemployed',\n",
              " 'job_unknown',\n",
              " 'marital_married',\n",
              " 'marital_single',\n",
              " 'marital_unknown',\n",
              " 'education_basic.6y',\n",
              " 'education_basic.9y',\n",
              " 'education_high.school',\n",
              " 'education_illiterate',\n",
              " 'education_professional.course',\n",
              " 'education_university.degree',\n",
              " 'education_unknown',\n",
              " 'default_unknown',\n",
              " 'default_yes',\n",
              " 'housing_unknown',\n",
              " 'housing_yes',\n",
              " 'loan_unknown',\n",
              " 'loan_yes',\n",
              " 'contact_telephone',\n",
              " 'month_aug',\n",
              " 'month_dec',\n",
              " 'month_jul',\n",
              " 'month_jun',\n",
              " 'month_mar',\n",
              " 'month_may',\n",
              " 'month_nov',\n",
              " 'month_oct',\n",
              " 'month_sep',\n",
              " 'day_of_week_mon',\n",
              " 'day_of_week_thu',\n",
              " 'day_of_week_tue',\n",
              " 'day_of_week_wed',\n",
              " 'poutcome_nonexistent',\n",
              " 'poutcome_success']"
            ]
          },
          "metadata": {},
          "execution_count": 47
        }
      ]
    },
    {
      "cell_type": "code",
      "source": [
        "ranking=rfe.ranking_\n",
        "ranking\n",
        "#Marked 1's are selected"
      ],
      "metadata": {
        "colab": {
          "base_uri": "https://localhost:8080/"
        },
        "id": "GHw0xZTMCxQK",
        "outputId": "d1ecaf20-98ad-44eb-99cc-70f10315b14f"
      },
      "execution_count": 50,
      "outputs": [
        {
          "output_type": "execute_result",
          "data": {
            "text/plain": [
              "array([ 1,  1,  1,  1,  1,  1,  1,  1,  1,  1,  5, 11,  1,  1,  3,  1,  6,\n",
              "        1,  8, 16,  1,  1, 20,  4,  1,  1, 22,  1,  1,  2,  1, 23,  7,  1,\n",
              "       13,  1,  1, 17, 21, 15, 14, 10, 12, 19,  9, 18,  1,  1,  1,  1,  1,\n",
              "        1])"
            ]
          },
          "metadata": {},
          "execution_count": 50
        }
      ]
    },
    {
      "cell_type": "code",
      "source": [
        "feature_importance=rfc1.feature_importances_\n",
        "rfe_selected=pd.DataFrame()"
      ],
      "metadata": {
        "id": "Cl-cepmfDN09"
      },
      "execution_count": 52,
      "outputs": []
    },
    {
      "cell_type": "code",
      "source": [
        "rfe_selected=pd.concat([pd.DataFrame(columns),pd.DataFrame(ranking),pd.DataFrame(feature_importance)],axis=1)"
      ],
      "metadata": {
        "id": "GyoRnfZ6Dg8x"
      },
      "execution_count": 53,
      "outputs": []
    },
    {
      "cell_type": "code",
      "source": [
        "rfe_selected.columns=[\"Feature Name\",\"Ranking\",\"Feature Importance\"]\n",
        "rfe_selected"
      ],
      "metadata": {
        "colab": {
          "base_uri": "https://localhost:8080/",
          "height": 1000
        },
        "id": "Cz6-jCEmD-T6",
        "outputId": "ccb9a7ba-9b89-4f4a-f15f-49052ea19fd9"
      },
      "execution_count": 56,
      "outputs": [
        {
          "output_type": "execute_result",
          "data": {
            "text/plain": [
              "                     Feature Name  Ranking  Feature Importance\n",
              "0                             age        1        1.692987e-01\n",
              "1                        campaign        1        8.429217e-02\n",
              "2                           pdays        1        3.334630e-02\n",
              "3                        previous        1        1.914051e-02\n",
              "4                    emp.var.rate        1        2.094487e-02\n",
              "5                  cons.price.idx        1        2.324114e-02\n",
              "6                   cons.conf.idx        1        2.918636e-02\n",
              "7                       euribor3m        1        1.267431e-01\n",
              "8                     nr.employed        1        5.497703e-02\n",
              "9                 job_blue-collar        1        1.374079e-02\n",
              "10               job_entrepreneur        5        6.347876e-03\n",
              "11                  job_housemaid       11        5.343349e-03\n",
              "12                 job_management        1        1.086981e-02\n",
              "13                    job_retired        1        8.193350e-03\n",
              "14              job_self-employed        3        7.850659e-03\n",
              "15                   job_services        1        1.087240e-02\n",
              "16                    job_student        6        6.060695e-03\n",
              "17                 job_technician        1        1.832949e-02\n",
              "18                 job_unemployed        8        5.918517e-03\n",
              "19                    job_unknown       16        2.510084e-03\n",
              "20                marital_married        1        2.115661e-02\n",
              "21                 marital_single        1        1.753702e-02\n",
              "22                marital_unknown       20        7.978410e-04\n",
              "23             education_basic.6y        4        7.232356e-03\n",
              "24             education_basic.9y        1        1.316028e-02\n",
              "25          education_high.school        1        1.714939e-02\n",
              "26           education_illiterate       22        3.653546e-04\n",
              "27  education_professional.course        1        1.295482e-02\n",
              "28    education_university.degree        1        1.731273e-02\n",
              "29              education_unknown        2        7.544662e-03\n",
              "30                default_unknown        1        1.524310e-02\n",
              "31                    default_yes       23        9.552779e-08\n",
              "32                housing_unknown        7        3.552605e-03\n",
              "33                    housing_yes        1        3.843560e-02\n",
              "34                   loan_unknown       13        3.659090e-03\n",
              "35                       loan_yes        1        2.473843e-02\n",
              "36              contact_telephone        1        1.494466e-02\n",
              "37                      month_aug       17        2.266179e-03\n",
              "38                      month_dec       21        8.230507e-04\n",
              "39                      month_jul       15        2.352720e-03\n",
              "40                      month_jun       14        2.596555e-03\n",
              "41                      month_mar       10        4.129150e-03\n",
              "42                      month_may       12        3.479683e-03\n",
              "43                      month_nov       19        2.118375e-03\n",
              "44                      month_oct        9        6.344282e-03\n",
              "45                      month_sep       18        2.001902e-03\n",
              "46                day_of_week_mon        1        1.561581e-02\n",
              "47                day_of_week_thu        1        1.613063e-02\n",
              "48                day_of_week_tue        1        1.628647e-02\n",
              "49                day_of_week_wed        1        1.605307e-02\n",
              "50           poutcome_nonexistent        1        9.010008e-03\n",
              "51               poutcome_success        1        2.780027e-02"
            ],
            "text/html": [
              "\n",
              "  <div id=\"df-d708635a-0b9f-4b4d-a0a3-62c474628487\">\n",
              "    <div class=\"colab-df-container\">\n",
              "      <div>\n",
              "<style scoped>\n",
              "    .dataframe tbody tr th:only-of-type {\n",
              "        vertical-align: middle;\n",
              "    }\n",
              "\n",
              "    .dataframe tbody tr th {\n",
              "        vertical-align: top;\n",
              "    }\n",
              "\n",
              "    .dataframe thead th {\n",
              "        text-align: right;\n",
              "    }\n",
              "</style>\n",
              "<table border=\"1\" class=\"dataframe\">\n",
              "  <thead>\n",
              "    <tr style=\"text-align: right;\">\n",
              "      <th></th>\n",
              "      <th>Feature Name</th>\n",
              "      <th>Ranking</th>\n",
              "      <th>Feature Importance</th>\n",
              "    </tr>\n",
              "  </thead>\n",
              "  <tbody>\n",
              "    <tr>\n",
              "      <th>0</th>\n",
              "      <td>age</td>\n",
              "      <td>1</td>\n",
              "      <td>1.692987e-01</td>\n",
              "    </tr>\n",
              "    <tr>\n",
              "      <th>1</th>\n",
              "      <td>campaign</td>\n",
              "      <td>1</td>\n",
              "      <td>8.429217e-02</td>\n",
              "    </tr>\n",
              "    <tr>\n",
              "      <th>2</th>\n",
              "      <td>pdays</td>\n",
              "      <td>1</td>\n",
              "      <td>3.334630e-02</td>\n",
              "    </tr>\n",
              "    <tr>\n",
              "      <th>3</th>\n",
              "      <td>previous</td>\n",
              "      <td>1</td>\n",
              "      <td>1.914051e-02</td>\n",
              "    </tr>\n",
              "    <tr>\n",
              "      <th>4</th>\n",
              "      <td>emp.var.rate</td>\n",
              "      <td>1</td>\n",
              "      <td>2.094487e-02</td>\n",
              "    </tr>\n",
              "    <tr>\n",
              "      <th>5</th>\n",
              "      <td>cons.price.idx</td>\n",
              "      <td>1</td>\n",
              "      <td>2.324114e-02</td>\n",
              "    </tr>\n",
              "    <tr>\n",
              "      <th>6</th>\n",
              "      <td>cons.conf.idx</td>\n",
              "      <td>1</td>\n",
              "      <td>2.918636e-02</td>\n",
              "    </tr>\n",
              "    <tr>\n",
              "      <th>7</th>\n",
              "      <td>euribor3m</td>\n",
              "      <td>1</td>\n",
              "      <td>1.267431e-01</td>\n",
              "    </tr>\n",
              "    <tr>\n",
              "      <th>8</th>\n",
              "      <td>nr.employed</td>\n",
              "      <td>1</td>\n",
              "      <td>5.497703e-02</td>\n",
              "    </tr>\n",
              "    <tr>\n",
              "      <th>9</th>\n",
              "      <td>job_blue-collar</td>\n",
              "      <td>1</td>\n",
              "      <td>1.374079e-02</td>\n",
              "    </tr>\n",
              "    <tr>\n",
              "      <th>10</th>\n",
              "      <td>job_entrepreneur</td>\n",
              "      <td>5</td>\n",
              "      <td>6.347876e-03</td>\n",
              "    </tr>\n",
              "    <tr>\n",
              "      <th>11</th>\n",
              "      <td>job_housemaid</td>\n",
              "      <td>11</td>\n",
              "      <td>5.343349e-03</td>\n",
              "    </tr>\n",
              "    <tr>\n",
              "      <th>12</th>\n",
              "      <td>job_management</td>\n",
              "      <td>1</td>\n",
              "      <td>1.086981e-02</td>\n",
              "    </tr>\n",
              "    <tr>\n",
              "      <th>13</th>\n",
              "      <td>job_retired</td>\n",
              "      <td>1</td>\n",
              "      <td>8.193350e-03</td>\n",
              "    </tr>\n",
              "    <tr>\n",
              "      <th>14</th>\n",
              "      <td>job_self-employed</td>\n",
              "      <td>3</td>\n",
              "      <td>7.850659e-03</td>\n",
              "    </tr>\n",
              "    <tr>\n",
              "      <th>15</th>\n",
              "      <td>job_services</td>\n",
              "      <td>1</td>\n",
              "      <td>1.087240e-02</td>\n",
              "    </tr>\n",
              "    <tr>\n",
              "      <th>16</th>\n",
              "      <td>job_student</td>\n",
              "      <td>6</td>\n",
              "      <td>6.060695e-03</td>\n",
              "    </tr>\n",
              "    <tr>\n",
              "      <th>17</th>\n",
              "      <td>job_technician</td>\n",
              "      <td>1</td>\n",
              "      <td>1.832949e-02</td>\n",
              "    </tr>\n",
              "    <tr>\n",
              "      <th>18</th>\n",
              "      <td>job_unemployed</td>\n",
              "      <td>8</td>\n",
              "      <td>5.918517e-03</td>\n",
              "    </tr>\n",
              "    <tr>\n",
              "      <th>19</th>\n",
              "      <td>job_unknown</td>\n",
              "      <td>16</td>\n",
              "      <td>2.510084e-03</td>\n",
              "    </tr>\n",
              "    <tr>\n",
              "      <th>20</th>\n",
              "      <td>marital_married</td>\n",
              "      <td>1</td>\n",
              "      <td>2.115661e-02</td>\n",
              "    </tr>\n",
              "    <tr>\n",
              "      <th>21</th>\n",
              "      <td>marital_single</td>\n",
              "      <td>1</td>\n",
              "      <td>1.753702e-02</td>\n",
              "    </tr>\n",
              "    <tr>\n",
              "      <th>22</th>\n",
              "      <td>marital_unknown</td>\n",
              "      <td>20</td>\n",
              "      <td>7.978410e-04</td>\n",
              "    </tr>\n",
              "    <tr>\n",
              "      <th>23</th>\n",
              "      <td>education_basic.6y</td>\n",
              "      <td>4</td>\n",
              "      <td>7.232356e-03</td>\n",
              "    </tr>\n",
              "    <tr>\n",
              "      <th>24</th>\n",
              "      <td>education_basic.9y</td>\n",
              "      <td>1</td>\n",
              "      <td>1.316028e-02</td>\n",
              "    </tr>\n",
              "    <tr>\n",
              "      <th>25</th>\n",
              "      <td>education_high.school</td>\n",
              "      <td>1</td>\n",
              "      <td>1.714939e-02</td>\n",
              "    </tr>\n",
              "    <tr>\n",
              "      <th>26</th>\n",
              "      <td>education_illiterate</td>\n",
              "      <td>22</td>\n",
              "      <td>3.653546e-04</td>\n",
              "    </tr>\n",
              "    <tr>\n",
              "      <th>27</th>\n",
              "      <td>education_professional.course</td>\n",
              "      <td>1</td>\n",
              "      <td>1.295482e-02</td>\n",
              "    </tr>\n",
              "    <tr>\n",
              "      <th>28</th>\n",
              "      <td>education_university.degree</td>\n",
              "      <td>1</td>\n",
              "      <td>1.731273e-02</td>\n",
              "    </tr>\n",
              "    <tr>\n",
              "      <th>29</th>\n",
              "      <td>education_unknown</td>\n",
              "      <td>2</td>\n",
              "      <td>7.544662e-03</td>\n",
              "    </tr>\n",
              "    <tr>\n",
              "      <th>30</th>\n",
              "      <td>default_unknown</td>\n",
              "      <td>1</td>\n",
              "      <td>1.524310e-02</td>\n",
              "    </tr>\n",
              "    <tr>\n",
              "      <th>31</th>\n",
              "      <td>default_yes</td>\n",
              "      <td>23</td>\n",
              "      <td>9.552779e-08</td>\n",
              "    </tr>\n",
              "    <tr>\n",
              "      <th>32</th>\n",
              "      <td>housing_unknown</td>\n",
              "      <td>7</td>\n",
              "      <td>3.552605e-03</td>\n",
              "    </tr>\n",
              "    <tr>\n",
              "      <th>33</th>\n",
              "      <td>housing_yes</td>\n",
              "      <td>1</td>\n",
              "      <td>3.843560e-02</td>\n",
              "    </tr>\n",
              "    <tr>\n",
              "      <th>34</th>\n",
              "      <td>loan_unknown</td>\n",
              "      <td>13</td>\n",
              "      <td>3.659090e-03</td>\n",
              "    </tr>\n",
              "    <tr>\n",
              "      <th>35</th>\n",
              "      <td>loan_yes</td>\n",
              "      <td>1</td>\n",
              "      <td>2.473843e-02</td>\n",
              "    </tr>\n",
              "    <tr>\n",
              "      <th>36</th>\n",
              "      <td>contact_telephone</td>\n",
              "      <td>1</td>\n",
              "      <td>1.494466e-02</td>\n",
              "    </tr>\n",
              "    <tr>\n",
              "      <th>37</th>\n",
              "      <td>month_aug</td>\n",
              "      <td>17</td>\n",
              "      <td>2.266179e-03</td>\n",
              "    </tr>\n",
              "    <tr>\n",
              "      <th>38</th>\n",
              "      <td>month_dec</td>\n",
              "      <td>21</td>\n",
              "      <td>8.230507e-04</td>\n",
              "    </tr>\n",
              "    <tr>\n",
              "      <th>39</th>\n",
              "      <td>month_jul</td>\n",
              "      <td>15</td>\n",
              "      <td>2.352720e-03</td>\n",
              "    </tr>\n",
              "    <tr>\n",
              "      <th>40</th>\n",
              "      <td>month_jun</td>\n",
              "      <td>14</td>\n",
              "      <td>2.596555e-03</td>\n",
              "    </tr>\n",
              "    <tr>\n",
              "      <th>41</th>\n",
              "      <td>month_mar</td>\n",
              "      <td>10</td>\n",
              "      <td>4.129150e-03</td>\n",
              "    </tr>\n",
              "    <tr>\n",
              "      <th>42</th>\n",
              "      <td>month_may</td>\n",
              "      <td>12</td>\n",
              "      <td>3.479683e-03</td>\n",
              "    </tr>\n",
              "    <tr>\n",
              "      <th>43</th>\n",
              "      <td>month_nov</td>\n",
              "      <td>19</td>\n",
              "      <td>2.118375e-03</td>\n",
              "    </tr>\n",
              "    <tr>\n",
              "      <th>44</th>\n",
              "      <td>month_oct</td>\n",
              "      <td>9</td>\n",
              "      <td>6.344282e-03</td>\n",
              "    </tr>\n",
              "    <tr>\n",
              "      <th>45</th>\n",
              "      <td>month_sep</td>\n",
              "      <td>18</td>\n",
              "      <td>2.001902e-03</td>\n",
              "    </tr>\n",
              "    <tr>\n",
              "      <th>46</th>\n",
              "      <td>day_of_week_mon</td>\n",
              "      <td>1</td>\n",
              "      <td>1.561581e-02</td>\n",
              "    </tr>\n",
              "    <tr>\n",
              "      <th>47</th>\n",
              "      <td>day_of_week_thu</td>\n",
              "      <td>1</td>\n",
              "      <td>1.613063e-02</td>\n",
              "    </tr>\n",
              "    <tr>\n",
              "      <th>48</th>\n",
              "      <td>day_of_week_tue</td>\n",
              "      <td>1</td>\n",
              "      <td>1.628647e-02</td>\n",
              "    </tr>\n",
              "    <tr>\n",
              "      <th>49</th>\n",
              "      <td>day_of_week_wed</td>\n",
              "      <td>1</td>\n",
              "      <td>1.605307e-02</td>\n",
              "    </tr>\n",
              "    <tr>\n",
              "      <th>50</th>\n",
              "      <td>poutcome_nonexistent</td>\n",
              "      <td>1</td>\n",
              "      <td>9.010008e-03</td>\n",
              "    </tr>\n",
              "    <tr>\n",
              "      <th>51</th>\n",
              "      <td>poutcome_success</td>\n",
              "      <td>1</td>\n",
              "      <td>2.780027e-02</td>\n",
              "    </tr>\n",
              "  </tbody>\n",
              "</table>\n",
              "</div>\n",
              "      <button class=\"colab-df-convert\" onclick=\"convertToInteractive('df-d708635a-0b9f-4b4d-a0a3-62c474628487')\"\n",
              "              title=\"Convert this dataframe to an interactive table.\"\n",
              "              style=\"display:none;\">\n",
              "        \n",
              "  <svg xmlns=\"http://www.w3.org/2000/svg\" height=\"24px\"viewBox=\"0 0 24 24\"\n",
              "       width=\"24px\">\n",
              "    <path d=\"M0 0h24v24H0V0z\" fill=\"none\"/>\n",
              "    <path d=\"M18.56 5.44l.94 2.06.94-2.06 2.06-.94-2.06-.94-.94-2.06-.94 2.06-2.06.94zm-11 1L8.5 8.5l.94-2.06 2.06-.94-2.06-.94L8.5 2.5l-.94 2.06-2.06.94zm10 10l.94 2.06.94-2.06 2.06-.94-2.06-.94-.94-2.06-.94 2.06-2.06.94z\"/><path d=\"M17.41 7.96l-1.37-1.37c-.4-.4-.92-.59-1.43-.59-.52 0-1.04.2-1.43.59L10.3 9.45l-7.72 7.72c-.78.78-.78 2.05 0 2.83L4 21.41c.39.39.9.59 1.41.59.51 0 1.02-.2 1.41-.59l7.78-7.78 2.81-2.81c.8-.78.8-2.07 0-2.86zM5.41 20L4 18.59l7.72-7.72 1.47 1.35L5.41 20z\"/>\n",
              "  </svg>\n",
              "      </button>\n",
              "      \n",
              "  <style>\n",
              "    .colab-df-container {\n",
              "      display:flex;\n",
              "      flex-wrap:wrap;\n",
              "      gap: 12px;\n",
              "    }\n",
              "\n",
              "    .colab-df-convert {\n",
              "      background-color: #E8F0FE;\n",
              "      border: none;\n",
              "      border-radius: 50%;\n",
              "      cursor: pointer;\n",
              "      display: none;\n",
              "      fill: #1967D2;\n",
              "      height: 32px;\n",
              "      padding: 0 0 0 0;\n",
              "      width: 32px;\n",
              "    }\n",
              "\n",
              "    .colab-df-convert:hover {\n",
              "      background-color: #E2EBFA;\n",
              "      box-shadow: 0px 1px 2px rgba(60, 64, 67, 0.3), 0px 1px 3px 1px rgba(60, 64, 67, 0.15);\n",
              "      fill: #174EA6;\n",
              "    }\n",
              "\n",
              "    [theme=dark] .colab-df-convert {\n",
              "      background-color: #3B4455;\n",
              "      fill: #D2E3FC;\n",
              "    }\n",
              "\n",
              "    [theme=dark] .colab-df-convert:hover {\n",
              "      background-color: #434B5C;\n",
              "      box-shadow: 0px 1px 3px 1px rgba(0, 0, 0, 0.15);\n",
              "      filter: drop-shadow(0px 1px 2px rgba(0, 0, 0, 0.3));\n",
              "      fill: #FFFFFF;\n",
              "    }\n",
              "  </style>\n",
              "\n",
              "      <script>\n",
              "        const buttonEl =\n",
              "          document.querySelector('#df-d708635a-0b9f-4b4d-a0a3-62c474628487 button.colab-df-convert');\n",
              "        buttonEl.style.display =\n",
              "          google.colab.kernel.accessAllowed ? 'block' : 'none';\n",
              "\n",
              "        async function convertToInteractive(key) {\n",
              "          const element = document.querySelector('#df-d708635a-0b9f-4b4d-a0a3-62c474628487');\n",
              "          const dataTable =\n",
              "            await google.colab.kernel.invokeFunction('convertToInteractive',\n",
              "                                                     [key], {});\n",
              "          if (!dataTable) return;\n",
              "\n",
              "          const docLinkHtml = 'Like what you see? Visit the ' +\n",
              "            '<a target=\"_blank\" href=https://colab.research.google.com/notebooks/data_table.ipynb>data table notebook</a>'\n",
              "            + ' to learn more about interactive tables.';\n",
              "          element.innerHTML = '';\n",
              "          dataTable['output_type'] = 'display_data';\n",
              "          await google.colab.output.renderOutput(dataTable, element);\n",
              "          const docLink = document.createElement('div');\n",
              "          docLink.innerHTML = docLinkHtml;\n",
              "          element.appendChild(docLink);\n",
              "        }\n",
              "      </script>\n",
              "    </div>\n",
              "  </div>\n",
              "  "
            ]
          },
          "metadata": {},
          "execution_count": 56
        }
      ]
    }
  ]
}